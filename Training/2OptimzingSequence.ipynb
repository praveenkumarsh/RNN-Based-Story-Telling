{
  "nbformat": 4,
  "nbformat_minor": 0,
  "metadata": {
    "colab": {
      "provenance": [],
      "gpuType": "T4"
    },
    "kernelspec": {
      "name": "python3",
      "display_name": "Python 3"
    },
    "language_info": {
      "name": "python"
    },
    "accelerator": "GPU"
  },
  "cells": [
    {
      "cell_type": "code",
      "execution_count": 10,
      "metadata": {
        "colab": {
          "base_uri": "https://localhost:8080/"
        },
        "id": "12zKauSJsRfV",
        "outputId": "7f4a2dad-3277-47ab-d574-8de5f7d82677"
      },
      "outputs": [
        {
          "output_type": "stream",
          "name": "stdout",
          "text": [
            "Requirement already satisfied: torch in /usr/local/lib/python3.11/dist-packages (2.5.1+cu124)\n",
            "Requirement already satisfied: transformers in /usr/local/lib/python3.11/dist-packages (4.48.3)\n",
            "Requirement already satisfied: sentence-transformers in /usr/local/lib/python3.11/dist-packages (3.4.1)\n",
            "Requirement already satisfied: scikit-learn in /usr/local/lib/python3.11/dist-packages (1.6.1)\n",
            "Requirement already satisfied: numpy in /usr/local/lib/python3.11/dist-packages (1.26.4)\n",
            "Requirement already satisfied: filelock in /usr/local/lib/python3.11/dist-packages (from torch) (3.17.0)\n",
            "Requirement already satisfied: typing-extensions>=4.8.0 in /usr/local/lib/python3.11/dist-packages (from torch) (4.12.2)\n",
            "Requirement already satisfied: networkx in /usr/local/lib/python3.11/dist-packages (from torch) (3.4.2)\n",
            "Requirement already satisfied: jinja2 in /usr/local/lib/python3.11/dist-packages (from torch) (3.1.5)\n",
            "Requirement already satisfied: fsspec in /usr/local/lib/python3.11/dist-packages (from torch) (2024.10.0)\n",
            "Requirement already satisfied: nvidia-cuda-nvrtc-cu12==12.4.127 in /usr/local/lib/python3.11/dist-packages (from torch) (12.4.127)\n",
            "Requirement already satisfied: nvidia-cuda-runtime-cu12==12.4.127 in /usr/local/lib/python3.11/dist-packages (from torch) (12.4.127)\n",
            "Requirement already satisfied: nvidia-cuda-cupti-cu12==12.4.127 in /usr/local/lib/python3.11/dist-packages (from torch) (12.4.127)\n",
            "Requirement already satisfied: nvidia-cudnn-cu12==9.1.0.70 in /usr/local/lib/python3.11/dist-packages (from torch) (9.1.0.70)\n",
            "Requirement already satisfied: nvidia-cublas-cu12==12.4.5.8 in /usr/local/lib/python3.11/dist-packages (from torch) (12.4.5.8)\n",
            "Requirement already satisfied: nvidia-cufft-cu12==11.2.1.3 in /usr/local/lib/python3.11/dist-packages (from torch) (11.2.1.3)\n",
            "Requirement already satisfied: nvidia-curand-cu12==10.3.5.147 in /usr/local/lib/python3.11/dist-packages (from torch) (10.3.5.147)\n",
            "Requirement already satisfied: nvidia-cusolver-cu12==11.6.1.9 in /usr/local/lib/python3.11/dist-packages (from torch) (11.6.1.9)\n",
            "Requirement already satisfied: nvidia-cusparse-cu12==12.3.1.170 in /usr/local/lib/python3.11/dist-packages (from torch) (12.3.1.170)\n",
            "Requirement already satisfied: nvidia-nccl-cu12==2.21.5 in /usr/local/lib/python3.11/dist-packages (from torch) (2.21.5)\n",
            "Requirement already satisfied: nvidia-nvtx-cu12==12.4.127 in /usr/local/lib/python3.11/dist-packages (from torch) (12.4.127)\n",
            "Requirement already satisfied: nvidia-nvjitlink-cu12==12.4.127 in /usr/local/lib/python3.11/dist-packages (from torch) (12.4.127)\n",
            "Requirement already satisfied: triton==3.1.0 in /usr/local/lib/python3.11/dist-packages (from torch) (3.1.0)\n",
            "Requirement already satisfied: sympy==1.13.1 in /usr/local/lib/python3.11/dist-packages (from torch) (1.13.1)\n",
            "Requirement already satisfied: mpmath<1.4,>=1.1.0 in /usr/local/lib/python3.11/dist-packages (from sympy==1.13.1->torch) (1.3.0)\n",
            "Requirement already satisfied: huggingface-hub<1.0,>=0.24.0 in /usr/local/lib/python3.11/dist-packages (from transformers) (0.28.1)\n",
            "Requirement already satisfied: packaging>=20.0 in /usr/local/lib/python3.11/dist-packages (from transformers) (24.2)\n",
            "Requirement already satisfied: pyyaml>=5.1 in /usr/local/lib/python3.11/dist-packages (from transformers) (6.0.2)\n",
            "Requirement already satisfied: regex!=2019.12.17 in /usr/local/lib/python3.11/dist-packages (from transformers) (2024.11.6)\n",
            "Requirement already satisfied: requests in /usr/local/lib/python3.11/dist-packages (from transformers) (2.32.3)\n",
            "Requirement already satisfied: tokenizers<0.22,>=0.21 in /usr/local/lib/python3.11/dist-packages (from transformers) (0.21.0)\n",
            "Requirement already satisfied: safetensors>=0.4.1 in /usr/local/lib/python3.11/dist-packages (from transformers) (0.5.2)\n",
            "Requirement already satisfied: tqdm>=4.27 in /usr/local/lib/python3.11/dist-packages (from transformers) (4.67.1)\n",
            "Requirement already satisfied: scipy in /usr/local/lib/python3.11/dist-packages (from sentence-transformers) (1.13.1)\n",
            "Requirement already satisfied: Pillow in /usr/local/lib/python3.11/dist-packages (from sentence-transformers) (11.1.0)\n",
            "Requirement already satisfied: joblib>=1.2.0 in /usr/local/lib/python3.11/dist-packages (from scikit-learn) (1.4.2)\n",
            "Requirement already satisfied: threadpoolctl>=3.1.0 in /usr/local/lib/python3.11/dist-packages (from scikit-learn) (3.5.0)\n",
            "Requirement already satisfied: MarkupSafe>=2.0 in /usr/local/lib/python3.11/dist-packages (from jinja2->torch) (3.0.2)\n",
            "Requirement already satisfied: charset-normalizer<4,>=2 in /usr/local/lib/python3.11/dist-packages (from requests->transformers) (3.4.1)\n",
            "Requirement already satisfied: idna<4,>=2.5 in /usr/local/lib/python3.11/dist-packages (from requests->transformers) (3.10)\n",
            "Requirement already satisfied: urllib3<3,>=1.21.1 in /usr/local/lib/python3.11/dist-packages (from requests->transformers) (2.3.0)\n",
            "Requirement already satisfied: certifi>=2017.4.17 in /usr/local/lib/python3.11/dist-packages (from requests->transformers) (2025.1.31)\n"
          ]
        }
      ],
      "source": [
        "!pip install torch transformers sentence-transformers scikit-learn numpy"
      ]
    },
    {
      "cell_type": "code",
      "source": [
        "import torch\n",
        "import numpy as np\n",
        "import random\n",
        "from transformers import BertModel, BertTokenizer\n",
        "from sentence_transformers import SentenceTransformer\n",
        "from sklearn.decomposition import IncrementalPCA\n",
        "from torch import nn, optim\n",
        "from collections import deque\n",
        "import os"
      ],
      "metadata": {
        "id": "p58vbrwlFt4k"
      },
      "execution_count": 11,
      "outputs": []
    },
    {
      "cell_type": "code",
      "source": [
        "# Configuration\n",
        "DEVICE = \"cuda\" if torch.cuda.is_available() else \"cpu\"\n",
        "EMBED_DIM = 128\n",
        "SEQ_LENGTH = 5  # Number of sentences in our sample"
      ],
      "metadata": {
        "id": "jXj5_MVhFwcC"
      },
      "execution_count": 12,
      "outputs": []
    },
    {
      "cell_type": "code",
      "source": [
        "SENTENCES = [\n",
        "    \"A playful dog ran towards him, wagging its tail\",\n",
        "     \"He threw the ball high into the air, watching it spin\",\n",
        "    \"The boy picked up a shiny red ball from the grass\",\n",
        "    \"Laughing, the boy ran forward to play again\",\n",
        "    \"The dog leaped up and caught it in its mouth\"\n",
        "]"
      ],
      "metadata": {
        "id": "i4NA0cnYF0Py"
      },
      "execution_count": 21,
      "outputs": []
    },
    {
      "cell_type": "code",
      "source": [
        "class BERTRewardCalculator:\n",
        "    def __init__(self):\n",
        "        self.tokenizer = BertTokenizer.from_pretrained('bert-base-uncased')\n",
        "        self.sbert = SentenceTransformer('all-mpnet-base-v2').to(DEVICE)\n",
        "        self.bert = BertModel.from_pretrained('bert-base-uncased').to(DEVICE)\n",
        "        self.pca = IncrementalPCA(n_components=EMBED_DIM)\n",
        "\n",
        "        for model in [self.bert, self.sbert]:\n",
        "            for param in model.parameters():\n",
        "                param.requires_grad = False\n",
        "\n",
        "    def get_embeddings(self, texts):\n",
        "        with torch.no_grad():\n",
        "            sbert_embeds = self.sbert.encode(texts, convert_to_tensor=True)\n",
        "            sbert_embeds = sbert_embeds.cpu().numpy()\n",
        "\n",
        "        if not hasattr(self.pca, 'components_'):\n",
        "            self.pca.fit(sbert_embeds)\n",
        "        return self.pca.transform(sbert_embeds)\n",
        "\n",
        "    def sequence_coherence(self, sequence):\n",
        "        inputs = self.tokenizer(\n",
        "            [f\"{sequence[i]} [SEP] {sequence[i+1]}\" for i in range(len(sequence)-1)],\n",
        "            padding=True,\n",
        "            truncation=True,\n",
        "            return_tensors=\"pt\",\n",
        "            max_length=64\n",
        "        ).to(DEVICE)\n",
        "\n",
        "        with torch.no_grad():\n",
        "            outputs = self.bert(**inputs)\n",
        "            cls_embeds = outputs.last_hidden_state[:, 0, :]\n",
        "\n",
        "        similarities = torch.cosine_similarity(cls_embeds[:-1], cls_embeds[1:])\n",
        "        return torch.mean(similarities).item()"
      ],
      "metadata": {
        "id": "yzl0iEJZF-jT"
      },
      "execution_count": 22,
      "outputs": []
    },
    {
      "cell_type": "code",
      "source": [
        "class SequenceEnvironment:\n",
        "    def __init__(self, sentences, rewarder):\n",
        "        self.sentences = sentences\n",
        "        self.rewarder = rewarder\n",
        "        self.n = len(sentences)\n",
        "        self.embeddings = self.rewarder.get_embeddings(sentences)\n",
        "        self.reset()\n",
        "\n",
        "    def reset(self):\n",
        "        self.current_order = np.random.permutation(self.n).tolist()\n",
        "        return self._get_state()\n",
        "\n",
        "    def _get_state(self):\n",
        "        embeds = self.embeddings[self.current_order]\n",
        "        positions = np.arange(self.n)[:, np.newaxis] / self.n\n",
        "        return np.hstack([embeds, positions]).flatten()\n",
        "\n",
        "    def step(self, action):\n",
        "        src, dst = action\n",
        "        item = self.current_order.pop(src)\n",
        "        self.current_order.insert(dst, item)\n",
        "\n",
        "        reward = self._calculate_reward()\n",
        "        done = False  # Continuous learning\n",
        "        return self._get_state(), reward, done\n",
        "\n",
        "    def _calculate_reward(self):\n",
        "        sequence = [self.sentences[i] for i in self.current_order]\n",
        "        return self.rewarder.sequence_coherence(sequence)"
      ],
      "metadata": {
        "id": "CBCKKIQOGCYF"
      },
      "execution_count": 23,
      "outputs": []
    },
    {
      "cell_type": "code",
      "source": [
        "class DQN(nn.Module):\n",
        "    def __init__(self, input_dim, output_dim):\n",
        "        super().__init__()\n",
        "        self.net = nn.Sequential(\n",
        "            nn.Linear(input_dim, 512),\n",
        "            nn.ReLU(),\n",
        "            nn.LayerNorm(512),\n",
        "            nn.Linear(512, 256),\n",
        "            nn.ReLU(),\n",
        "            nn.Linear(256, output_dim)\n",
        "        )\n",
        "\n",
        "    def forward(self, x):\n",
        "        return self.net(x)"
      ],
      "metadata": {
        "id": "O0JxZlKQGEvW"
      },
      "execution_count": 24,
      "outputs": []
    },
    {
      "cell_type": "code",
      "source": [
        "class DQNAgent:\n",
        "    def __init__(self, input_dim, output_dim):\n",
        "        self.q_net = DQN(input_dim, output_dim).to(DEVICE)\n",
        "        self.target_net = DQN(input_dim, output_dim).to(DEVICE)\n",
        "        self.optimizer = optim.AdamW(self.q_net.parameters(), lr=0.0001)\n",
        "        self.memory = deque(maxlen=10000)\n",
        "        self.batch_size = 64\n",
        "        self.gamma = 0.99\n",
        "        self.epsilon = 1.0\n",
        "\n",
        "    def act(self, state):\n",
        "        if random.random() < self.epsilon:\n",
        "            return random.randint(0, SEQ_LENGTH-1), random.randint(0, SEQ_LENGTH-1)\n",
        "\n",
        "        state_t = torch.FloatTensor(state).unsqueeze(0).to(DEVICE)\n",
        "        with torch.no_grad():\n",
        "            q_values = self.q_net(state_t)\n",
        "        action_idx = torch.argmax(q_values).item()\n",
        "        return (action_idx // SEQ_LENGTH, action_idx % SEQ_LENGTH)\n",
        "\n",
        "    def remember(self, state, action, reward, next_state):\n",
        "        self.memory.append((state, action, reward, next_state))\n",
        "\n",
        "    def learn(self):\n",
        "        if len(self.memory) < self.batch_size:\n",
        "            return\n",
        "\n",
        "        batch = random.sample(self.memory, self.batch_size)\n",
        "        states, actions, rewards, next_states = zip(*batch)\n",
        "\n",
        "        states = torch.FloatTensor(np.array(states)).to(DEVICE)\n",
        "        next_states = torch.FloatTensor(np.array(next_states)).to(DEVICE)\n",
        "        rewards = torch.FloatTensor(rewards).to(DEVICE)\n",
        "\n",
        "        current_q = self.q_net(states).gather(1,\n",
        "            torch.LongTensor([a[0]*SEQ_LENGTH + a[1] for a in actions]).unsqueeze(1).to(DEVICE))\n",
        "        next_q = self.target_net(next_states).max(1)[0]\n",
        "        target_q = rewards + self.gamma * next_q\n",
        "\n",
        "        loss = nn.MSELoss()(current_q.squeeze(), target_q)\n",
        "        self.optimizer.zero_grad()\n",
        "        loss.backward()\n",
        "        self.optimizer.step()\n",
        "\n",
        "        self.epsilon = max(0.01, self.epsilon*0.995)\n",
        "        self.target_net.load_state_dict(self.q_net.state_dict())"
      ],
      "metadata": {
        "id": "YK2xiPzgGJ0F"
      },
      "execution_count": 25,
      "outputs": []
    },
    {
      "cell_type": "code",
      "source": [
        "def main():\n",
        "    # Initialize components\n",
        "    rewarder = BERTRewardCalculator()\n",
        "    env = SequenceEnvironment(SENTENCES, rewarder)\n",
        "    agent = DQNAgent(\n",
        "        input_dim=len(env.reset()),\n",
        "        output_dim=SEQ_LENGTH**2\n",
        "    )\n",
        "\n",
        "    # Tracking the best sequence\n",
        "    best_reward = float('-inf')\n",
        "    best_sequence = None\n",
        "\n",
        "    # Training loop\n",
        "    print(\"Starting training...\")\n",
        "    for episode in range(1000):\n",
        "        state = env.reset()\n",
        "        total_reward = 0\n",
        "\n",
        "        for _ in range(50):  # Steps per episode\n",
        "            action = agent.act(state)\n",
        "            next_state, reward, _ = env.step(action)\n",
        "            agent.remember(state, action, reward, next_state)\n",
        "            agent.learn()\n",
        "            total_reward += reward\n",
        "            state = next_state\n",
        "\n",
        "        # Check if the current sequence is the best so far\n",
        "        if total_reward > best_reward:\n",
        "            best_reward = total_reward\n",
        "            best_sequence = env.current_order[:]  # Store a copy of the best order\n",
        "\n",
        "        if (episode+1) % 50 == 0:\n",
        "            print(f\"Episode {episode+1}, Avg Reward: {total_reward/50:.3f}, Epsilon: {agent.epsilon:.3f}\")\n",
        "\n",
        "    # Show the sequence with the highest reward\n",
        "    print(\"\\nBest Sequence Found:\")\n",
        "    for idx, order in enumerate(best_sequence):\n",
        "        print(f\"{idx+1}. {SENTENCES[order]}\")"
      ],
      "metadata": {
        "id": "uRsjF5JeIUN9"
      },
      "execution_count": 26,
      "outputs": []
    },
    {
      "cell_type": "code",
      "source": [
        "if __name__ == \"__main__\":\n",
        "    main()"
      ],
      "metadata": {
        "colab": {
          "base_uri": "https://localhost:8080/"
        },
        "id": "6y3ld1cxJXSS",
        "outputId": "44b89f49-40f5-4cea-90a1-c15f94500a9e"
      },
      "execution_count": 29,
      "outputs": [
        {
          "output_type": "stream",
          "name": "stderr",
          "text": [
            "/usr/local/lib/python3.11/dist-packages/sklearn/decomposition/_incremental_pca.py:376: RuntimeWarning: Mean of empty slice.\n",
            "  self.noise_variance_ = explained_variance[self.n_components_ :].mean()\n",
            "/usr/local/lib/python3.11/dist-packages/numpy/core/_methods.py:129: RuntimeWarning: invalid value encountered in divide\n",
            "  ret = ret.dtype.type(ret / rcount)\n"
          ]
        },
        {
          "output_type": "stream",
          "name": "stdout",
          "text": [
            "Starting training...\n",
            "Episode 50, Avg Reward: 0.954, Epsilon: 0.010\n",
            "Episode 100, Avg Reward: 0.955, Epsilon: 0.010\n",
            "Episode 150, Avg Reward: 0.952, Epsilon: 0.010\n",
            "Episode 200, Avg Reward: 0.953, Epsilon: 0.010\n",
            "Episode 250, Avg Reward: 0.957, Epsilon: 0.010\n",
            "Episode 300, Avg Reward: 0.955, Epsilon: 0.010\n",
            "Episode 350, Avg Reward: 0.952, Epsilon: 0.010\n",
            "Episode 400, Avg Reward: 0.953, Epsilon: 0.010\n",
            "Episode 450, Avg Reward: 0.954, Epsilon: 0.010\n",
            "Episode 500, Avg Reward: 0.953, Epsilon: 0.010\n",
            "Episode 550, Avg Reward: 0.954, Epsilon: 0.010\n",
            "Episode 600, Avg Reward: 0.954, Epsilon: 0.010\n",
            "Episode 650, Avg Reward: 0.953, Epsilon: 0.010\n",
            "Episode 700, Avg Reward: 0.957, Epsilon: 0.010\n",
            "Episode 750, Avg Reward: 0.953, Epsilon: 0.010\n",
            "Episode 800, Avg Reward: 0.956, Epsilon: 0.010\n",
            "Episode 850, Avg Reward: 0.954, Epsilon: 0.010\n",
            "Episode 900, Avg Reward: 0.952, Epsilon: 0.010\n",
            "Episode 950, Avg Reward: 0.955, Epsilon: 0.010\n",
            "Episode 1000, Avg Reward: 0.954, Epsilon: 0.010\n",
            "\n",
            "Best Sequence Found:\n",
            "1. The dog leaped up and caught it in its mouth\n",
            "2. Laughing, the boy ran forward to play again\n",
            "3. A playful dog ran towards him, wagging its tail\n",
            "4. He threw the ball high into the air, watching it spin\n",
            "5. The boy picked up a shiny red ball from the grass\n"
          ]
        }
      ]
    },
    {
      "cell_type": "code",
      "source": [],
      "metadata": {
        "id": "L793_jELHH97"
      },
      "execution_count": null,
      "outputs": []
    }
  ]
}